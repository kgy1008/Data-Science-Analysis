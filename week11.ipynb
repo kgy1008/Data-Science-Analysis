{
  "nbformat": 4,
  "nbformat_minor": 0,
  "metadata": {
    "colab": {
      "provenance": [],
      "include_colab_link": true
    },
    "kernelspec": {
      "name": "python3",
      "display_name": "Python 3"
    },
    "language_info": {
      "name": "python"
    }
  },
  "cells": [
    {
      "cell_type": "markdown",
      "metadata": {
        "id": "view-in-github",
        "colab_type": "text"
      },
      "source": [
        "<a href=\"https://colab.research.google.com/github/kgy1008/Data-Science-Analysis/blob/main/week11.ipynb\" target=\"_parent\"><img src=\"https://colab.research.google.com/assets/colab-badge.svg\" alt=\"Open In Colab\"/></a>"
      ]
    },
    {
      "cell_type": "code",
      "execution_count": null,
      "metadata": {
        "colab": {
          "base_uri": "https://localhost:8080/"
        },
        "id": "HDnIAXVHAH0V",
        "outputId": "63b99bbd-c4d4-43e2-c9af-e9c1d5ee5e28"
      },
      "outputs": [
        {
          "output_type": "stream",
          "name": "stdout",
          "text": [
            "Downloading...\n",
            "From: https://drive.google.com/uc?id=1bBHHdWwRsOBO0MiqrDWag3v4Zsroea7V\n",
            "To: /content/medical.csv\n",
            "\r  0% 0.00/9.14M [00:00<?, ?B/s]\r 11% 1.05M/9.14M [00:00<00:00, 10.0MB/s]\r 52% 4.72M/9.14M [00:00<00:00, 23.6MB/s]\r100% 9.14M/9.14M [00:00<00:00, 35.9MB/s]\n"
          ]
        }
      ],
      "source": [
        "!gdown https://drive.google.com/uc?id=1bBHHdWwRsOBO0MiqrDWag3v4Zsroea7V"
      ]
    },
    {
      "cell_type": "code",
      "source": [
        "#라이브러리 불러오기\n",
        "import pandas as pd\n",
        "import numpy as np\n",
        "import matplotlib.pyplot as plt\n",
        "import seaborn as sns"
      ],
      "metadata": {
        "id": "4xCpC45ZB46I"
      },
      "execution_count": null,
      "outputs": []
    },
    {
      "cell_type": "code",
      "source": [
        "#데이터셋 불러오기\n",
        "df =pd.read_csv('medical.csv')\n",
        "df.head()"
      ],
      "metadata": {
        "colab": {
          "base_uri": "https://localhost:8080/",
          "height": 206
        },
        "id": "c8TbrFiTCJ3D",
        "outputId": "d65c17c6-de2f-4862-d040-1c5f7afb2135"
      },
      "execution_count": null,
      "outputs": [
        {
          "output_type": "execute_result",
          "data": {
            "text/plain": [
              "      PatientId  AppointmentID Gender          ScheduledDay  \\\n",
              "0  2.990000e+13        5642903      F  2016-04-29T18:38:08Z   \n",
              "1  5.590000e+14        5642503      M  2016-04-29T16:08:27Z   \n",
              "2  4.260000e+12        5642549      F  2016-04-29T16:19:04Z   \n",
              "3  8.680000e+11        5642828      F  2016-04-29T17:29:31Z   \n",
              "4  8.840000e+12        5642494      F  2016-04-29T16:07:23Z   \n",
              "\n",
              "         AppointmentDay  Age      Neighbourhood  SMS_received No-show  \n",
              "0  2016-04-29T00:00:00Z   62    JARDIM DA PENHA             0      No  \n",
              "1  2016-04-29T00:00:00Z   56    JARDIM DA PENHA             0      No  \n",
              "2  2016-04-29T00:00:00Z   62      MATA DA PRAIA             0      No  \n",
              "3  2016-04-29T00:00:00Z    8  PONTAL DE CAMBURI             0      No  \n",
              "4  2016-04-29T00:00:00Z   56    JARDIM DA PENHA             0      No  "
            ],
            "text/html": [
              "\n",
              "  <div id=\"df-b9f39371-13c1-4c94-8ae1-e37cb9ae9d84\" class=\"colab-df-container\">\n",
              "    <div>\n",
              "<style scoped>\n",
              "    .dataframe tbody tr th:only-of-type {\n",
              "        vertical-align: middle;\n",
              "    }\n",
              "\n",
              "    .dataframe tbody tr th {\n",
              "        vertical-align: top;\n",
              "    }\n",
              "\n",
              "    .dataframe thead th {\n",
              "        text-align: right;\n",
              "    }\n",
              "</style>\n",
              "<table border=\"1\" class=\"dataframe\">\n",
              "  <thead>\n",
              "    <tr style=\"text-align: right;\">\n",
              "      <th></th>\n",
              "      <th>PatientId</th>\n",
              "      <th>AppointmentID</th>\n",
              "      <th>Gender</th>\n",
              "      <th>ScheduledDay</th>\n",
              "      <th>AppointmentDay</th>\n",
              "      <th>Age</th>\n",
              "      <th>Neighbourhood</th>\n",
              "      <th>SMS_received</th>\n",
              "      <th>No-show</th>\n",
              "    </tr>\n",
              "  </thead>\n",
              "  <tbody>\n",
              "    <tr>\n",
              "      <th>0</th>\n",
              "      <td>2.990000e+13</td>\n",
              "      <td>5642903</td>\n",
              "      <td>F</td>\n",
              "      <td>2016-04-29T18:38:08Z</td>\n",
              "      <td>2016-04-29T00:00:00Z</td>\n",
              "      <td>62</td>\n",
              "      <td>JARDIM DA PENHA</td>\n",
              "      <td>0</td>\n",
              "      <td>No</td>\n",
              "    </tr>\n",
              "    <tr>\n",
              "      <th>1</th>\n",
              "      <td>5.590000e+14</td>\n",
              "      <td>5642503</td>\n",
              "      <td>M</td>\n",
              "      <td>2016-04-29T16:08:27Z</td>\n",
              "      <td>2016-04-29T00:00:00Z</td>\n",
              "      <td>56</td>\n",
              "      <td>JARDIM DA PENHA</td>\n",
              "      <td>0</td>\n",
              "      <td>No</td>\n",
              "    </tr>\n",
              "    <tr>\n",
              "      <th>2</th>\n",
              "      <td>4.260000e+12</td>\n",
              "      <td>5642549</td>\n",
              "      <td>F</td>\n",
              "      <td>2016-04-29T16:19:04Z</td>\n",
              "      <td>2016-04-29T00:00:00Z</td>\n",
              "      <td>62</td>\n",
              "      <td>MATA DA PRAIA</td>\n",
              "      <td>0</td>\n",
              "      <td>No</td>\n",
              "    </tr>\n",
              "    <tr>\n",
              "      <th>3</th>\n",
              "      <td>8.680000e+11</td>\n",
              "      <td>5642828</td>\n",
              "      <td>F</td>\n",
              "      <td>2016-04-29T17:29:31Z</td>\n",
              "      <td>2016-04-29T00:00:00Z</td>\n",
              "      <td>8</td>\n",
              "      <td>PONTAL DE CAMBURI</td>\n",
              "      <td>0</td>\n",
              "      <td>No</td>\n",
              "    </tr>\n",
              "    <tr>\n",
              "      <th>4</th>\n",
              "      <td>8.840000e+12</td>\n",
              "      <td>5642494</td>\n",
              "      <td>F</td>\n",
              "      <td>2016-04-29T16:07:23Z</td>\n",
              "      <td>2016-04-29T00:00:00Z</td>\n",
              "      <td>56</td>\n",
              "      <td>JARDIM DA PENHA</td>\n",
              "      <td>0</td>\n",
              "      <td>No</td>\n",
              "    </tr>\n",
              "  </tbody>\n",
              "</table>\n",
              "</div>\n",
              "    <div class=\"colab-df-buttons\">\n",
              "\n",
              "  <div class=\"colab-df-container\">\n",
              "    <button class=\"colab-df-convert\" onclick=\"convertToInteractive('df-b9f39371-13c1-4c94-8ae1-e37cb9ae9d84')\"\n",
              "            title=\"Convert this dataframe to an interactive table.\"\n",
              "            style=\"display:none;\">\n",
              "\n",
              "  <svg xmlns=\"http://www.w3.org/2000/svg\" height=\"24px\" viewBox=\"0 -960 960 960\">\n",
              "    <path d=\"M120-120v-720h720v720H120Zm60-500h600v-160H180v160Zm220 220h160v-160H400v160Zm0 220h160v-160H400v160ZM180-400h160v-160H180v160Zm440 0h160v-160H620v160ZM180-180h160v-160H180v160Zm440 0h160v-160H620v160Z\"/>\n",
              "  </svg>\n",
              "    </button>\n",
              "\n",
              "  <style>\n",
              "    .colab-df-container {\n",
              "      display:flex;\n",
              "      gap: 12px;\n",
              "    }\n",
              "\n",
              "    .colab-df-convert {\n",
              "      background-color: #E8F0FE;\n",
              "      border: none;\n",
              "      border-radius: 50%;\n",
              "      cursor: pointer;\n",
              "      display: none;\n",
              "      fill: #1967D2;\n",
              "      height: 32px;\n",
              "      padding: 0 0 0 0;\n",
              "      width: 32px;\n",
              "    }\n",
              "\n",
              "    .colab-df-convert:hover {\n",
              "      background-color: #E2EBFA;\n",
              "      box-shadow: 0px 1px 2px rgba(60, 64, 67, 0.3), 0px 1px 3px 1px rgba(60, 64, 67, 0.15);\n",
              "      fill: #174EA6;\n",
              "    }\n",
              "\n",
              "    .colab-df-buttons div {\n",
              "      margin-bottom: 4px;\n",
              "    }\n",
              "\n",
              "    [theme=dark] .colab-df-convert {\n",
              "      background-color: #3B4455;\n",
              "      fill: #D2E3FC;\n",
              "    }\n",
              "\n",
              "    [theme=dark] .colab-df-convert:hover {\n",
              "      background-color: #434B5C;\n",
              "      box-shadow: 0px 1px 3px 1px rgba(0, 0, 0, 0.15);\n",
              "      filter: drop-shadow(0px 1px 2px rgba(0, 0, 0, 0.3));\n",
              "      fill: #FFFFFF;\n",
              "    }\n",
              "  </style>\n",
              "\n",
              "    <script>\n",
              "      const buttonEl =\n",
              "        document.querySelector('#df-b9f39371-13c1-4c94-8ae1-e37cb9ae9d84 button.colab-df-convert');\n",
              "      buttonEl.style.display =\n",
              "        google.colab.kernel.accessAllowed ? 'block' : 'none';\n",
              "\n",
              "      async function convertToInteractive(key) {\n",
              "        const element = document.querySelector('#df-b9f39371-13c1-4c94-8ae1-e37cb9ae9d84');\n",
              "        const dataTable =\n",
              "          await google.colab.kernel.invokeFunction('convertToInteractive',\n",
              "                                                    [key], {});\n",
              "        if (!dataTable) return;\n",
              "\n",
              "        const docLinkHtml = 'Like what you see? Visit the ' +\n",
              "          '<a target=\"_blank\" href=https://colab.research.google.com/notebooks/data_table.ipynb>data table notebook</a>'\n",
              "          + ' to learn more about interactive tables.';\n",
              "        element.innerHTML = '';\n",
              "        dataTable['output_type'] = 'display_data';\n",
              "        await google.colab.output.renderOutput(dataTable, element);\n",
              "        const docLink = document.createElement('div');\n",
              "        docLink.innerHTML = docLinkHtml;\n",
              "        element.appendChild(docLink);\n",
              "      }\n",
              "    </script>\n",
              "  </div>\n",
              "\n",
              "\n",
              "<div id=\"df-3aab8608-fea8-4a72-8001-cab7ab728c0b\">\n",
              "  <button class=\"colab-df-quickchart\" onclick=\"quickchart('df-3aab8608-fea8-4a72-8001-cab7ab728c0b')\"\n",
              "            title=\"Suggest charts\"\n",
              "            style=\"display:none;\">\n",
              "\n",
              "<svg xmlns=\"http://www.w3.org/2000/svg\" height=\"24px\"viewBox=\"0 0 24 24\"\n",
              "     width=\"24px\">\n",
              "    <g>\n",
              "        <path d=\"M19 3H5c-1.1 0-2 .9-2 2v14c0 1.1.9 2 2 2h14c1.1 0 2-.9 2-2V5c0-1.1-.9-2-2-2zM9 17H7v-7h2v7zm4 0h-2V7h2v10zm4 0h-2v-4h2v4z\"/>\n",
              "    </g>\n",
              "</svg>\n",
              "  </button>\n",
              "\n",
              "<style>\n",
              "  .colab-df-quickchart {\n",
              "      --bg-color: #E8F0FE;\n",
              "      --fill-color: #1967D2;\n",
              "      --hover-bg-color: #E2EBFA;\n",
              "      --hover-fill-color: #174EA6;\n",
              "      --disabled-fill-color: #AAA;\n",
              "      --disabled-bg-color: #DDD;\n",
              "  }\n",
              "\n",
              "  [theme=dark] .colab-df-quickchart {\n",
              "      --bg-color: #3B4455;\n",
              "      --fill-color: #D2E3FC;\n",
              "      --hover-bg-color: #434B5C;\n",
              "      --hover-fill-color: #FFFFFF;\n",
              "      --disabled-bg-color: #3B4455;\n",
              "      --disabled-fill-color: #666;\n",
              "  }\n",
              "\n",
              "  .colab-df-quickchart {\n",
              "    background-color: var(--bg-color);\n",
              "    border: none;\n",
              "    border-radius: 50%;\n",
              "    cursor: pointer;\n",
              "    display: none;\n",
              "    fill: var(--fill-color);\n",
              "    height: 32px;\n",
              "    padding: 0;\n",
              "    width: 32px;\n",
              "  }\n",
              "\n",
              "  .colab-df-quickchart:hover {\n",
              "    background-color: var(--hover-bg-color);\n",
              "    box-shadow: 0 1px 2px rgba(60, 64, 67, 0.3), 0 1px 3px 1px rgba(60, 64, 67, 0.15);\n",
              "    fill: var(--button-hover-fill-color);\n",
              "  }\n",
              "\n",
              "  .colab-df-quickchart-complete:disabled,\n",
              "  .colab-df-quickchart-complete:disabled:hover {\n",
              "    background-color: var(--disabled-bg-color);\n",
              "    fill: var(--disabled-fill-color);\n",
              "    box-shadow: none;\n",
              "  }\n",
              "\n",
              "  .colab-df-spinner {\n",
              "    border: 2px solid var(--fill-color);\n",
              "    border-color: transparent;\n",
              "    border-bottom-color: var(--fill-color);\n",
              "    animation:\n",
              "      spin 1s steps(1) infinite;\n",
              "  }\n",
              "\n",
              "  @keyframes spin {\n",
              "    0% {\n",
              "      border-color: transparent;\n",
              "      border-bottom-color: var(--fill-color);\n",
              "      border-left-color: var(--fill-color);\n",
              "    }\n",
              "    20% {\n",
              "      border-color: transparent;\n",
              "      border-left-color: var(--fill-color);\n",
              "      border-top-color: var(--fill-color);\n",
              "    }\n",
              "    30% {\n",
              "      border-color: transparent;\n",
              "      border-left-color: var(--fill-color);\n",
              "      border-top-color: var(--fill-color);\n",
              "      border-right-color: var(--fill-color);\n",
              "    }\n",
              "    40% {\n",
              "      border-color: transparent;\n",
              "      border-right-color: var(--fill-color);\n",
              "      border-top-color: var(--fill-color);\n",
              "    }\n",
              "    60% {\n",
              "      border-color: transparent;\n",
              "      border-right-color: var(--fill-color);\n",
              "    }\n",
              "    80% {\n",
              "      border-color: transparent;\n",
              "      border-right-color: var(--fill-color);\n",
              "      border-bottom-color: var(--fill-color);\n",
              "    }\n",
              "    90% {\n",
              "      border-color: transparent;\n",
              "      border-bottom-color: var(--fill-color);\n",
              "    }\n",
              "  }\n",
              "</style>\n",
              "\n",
              "  <script>\n",
              "    async function quickchart(key) {\n",
              "      const quickchartButtonEl =\n",
              "        document.querySelector('#' + key + ' button');\n",
              "      quickchartButtonEl.disabled = true;  // To prevent multiple clicks.\n",
              "      quickchartButtonEl.classList.add('colab-df-spinner');\n",
              "      try {\n",
              "        const charts = await google.colab.kernel.invokeFunction(\n",
              "            'suggestCharts', [key], {});\n",
              "      } catch (error) {\n",
              "        console.error('Error during call to suggestCharts:', error);\n",
              "      }\n",
              "      quickchartButtonEl.classList.remove('colab-df-spinner');\n",
              "      quickchartButtonEl.classList.add('colab-df-quickchart-complete');\n",
              "    }\n",
              "    (() => {\n",
              "      let quickchartButtonEl =\n",
              "        document.querySelector('#df-3aab8608-fea8-4a72-8001-cab7ab728c0b button');\n",
              "      quickchartButtonEl.style.display =\n",
              "        google.colab.kernel.accessAllowed ? 'block' : 'none';\n",
              "    })();\n",
              "  </script>\n",
              "</div>\n",
              "\n",
              "    </div>\n",
              "  </div>\n"
            ]
          },
          "metadata": {},
          "execution_count": 6
        }
      ]
    },
    {
      "cell_type": "code",
      "source": [
        "#데이터 컬럼명 확인하기\n",
        "df.columns"
      ],
      "metadata": {
        "colab": {
          "base_uri": "https://localhost:8080/"
        },
        "id": "fUtzP6DWCNBc",
        "outputId": "75861949-c244-4a2e-e44c-5ab41f876a73"
      },
      "execution_count": null,
      "outputs": [
        {
          "output_type": "execute_result",
          "data": {
            "text/plain": [
              "Index(['PatientId', 'AppointmentID', 'Gender', 'ScheduledDay',\n",
              "       'AppointmentDay', 'Age', 'Neighbourhood', 'SMS_received', 'No-show'],\n",
              "      dtype='object')"
            ]
          },
          "metadata": {},
          "execution_count": 23
        }
      ]
    },
    {
      "cell_type": "code",
      "source": [
        "#전반적인 데이터 정보 확인하기\n",
        "df.info()"
      ],
      "metadata": {
        "colab": {
          "base_uri": "https://localhost:8080/"
        },
        "id": "Yl0yMLbnCS7u",
        "outputId": "f6d83a3e-b2c0-41b7-b207-86932696d196"
      },
      "execution_count": null,
      "outputs": [
        {
          "output_type": "stream",
          "name": "stdout",
          "text": [
            "<class 'pandas.core.frame.DataFrame'>\n",
            "RangeIndex: 110527 entries, 0 to 110526\n",
            "Data columns (total 9 columns):\n",
            " #   Column          Non-Null Count   Dtype  \n",
            "---  ------          --------------   -----  \n",
            " 0   PatientId       110527 non-null  float64\n",
            " 1   AppointmentID   110527 non-null  int64  \n",
            " 2   Gender          110527 non-null  object \n",
            " 3   ScheduledDay    110527 non-null  object \n",
            " 4   AppointmentDay  110527 non-null  object \n",
            " 5   Age             110527 non-null  int64  \n",
            " 6   Neighbourhood   110527 non-null  object \n",
            " 7   SMS_received    110527 non-null  int64  \n",
            " 8   No-show         110527 non-null  object \n",
            "dtypes: float64(1), int64(3), object(5)\n",
            "memory usage: 7.6+ MB\n"
          ]
        }
      ]
    },
    {
      "cell_type": "code",
      "source": [
        "#컬럼별로 결측치 확인하기 :isnull().any()\n",
        "df.isnull().any()"
      ],
      "metadata": {
        "colab": {
          "base_uri": "https://localhost:8080/"
        },
        "id": "oEatnz5XCbRz",
        "outputId": "48a22922-304d-475e-d279-6ef8e28a59b1"
      },
      "execution_count": null,
      "outputs": [
        {
          "output_type": "execute_result",
          "data": {
            "text/plain": [
              "PatientId         False\n",
              "AppointmentID     False\n",
              "Gender            False\n",
              "ScheduledDay      False\n",
              "AppointmentDay    False\n",
              "Age               False\n",
              "Neighbourhood     False\n",
              "SMS_received      False\n",
              "No-show           False\n",
              "dtype: bool"
            ]
          },
          "metadata": {},
          "execution_count": 25
        }
      ]
    },
    {
      "cell_type": "code",
      "source": [
        "df['Gender'].value_counts()"
      ],
      "metadata": {
        "colab": {
          "base_uri": "https://localhost:8080/"
        },
        "id": "R4wKzAwzrro1",
        "outputId": "b95cdc66-5c6e-44d3-9cf6-94c3ff72727a"
      },
      "execution_count": null,
      "outputs": [
        {
          "output_type": "execute_result",
          "data": {
            "text/plain": [
              "F    71840\n",
              "M    38687\n",
              "Name: Gender, dtype: int64"
            ]
          },
          "metadata": {},
          "execution_count": 26
        }
      ]
    },
    {
      "cell_type": "code",
      "source": [
        "df['No-show'].value_counts()"
      ],
      "metadata": {
        "colab": {
          "base_uri": "https://localhost:8080/"
        },
        "id": "o4S3be9grlV4",
        "outputId": "4a19ab32-f672-461c-8de4-b1df03d50aa3"
      },
      "execution_count": null,
      "outputs": [
        {
          "output_type": "execute_result",
          "data": {
            "text/plain": [
              "No     88208\n",
              "Yes    22319\n",
              "Name: No-show, dtype: int64"
            ]
          },
          "metadata": {},
          "execution_count": 27
        }
      ]
    },
    {
      "cell_type": "code",
      "source": [
        "df['Age'].value_counts()"
      ],
      "metadata": {
        "colab": {
          "base_uri": "https://localhost:8080/"
        },
        "id": "uQPaeSVLrd_x",
        "outputId": "dc676378-452a-4228-d0c3-e52b9e0d86f4"
      },
      "execution_count": null,
      "outputs": [
        {
          "output_type": "execute_result",
          "data": {
            "text/plain": [
              " 0      3539\n",
              " 1      2273\n",
              " 52     1746\n",
              " 49     1652\n",
              " 53     1651\n",
              "        ... \n",
              " 115       5\n",
              " 100       4\n",
              " 102       2\n",
              " 99        1\n",
              "-1         1\n",
              "Name: Age, Length: 104, dtype: int64"
            ]
          },
          "metadata": {},
          "execution_count": 28
        }
      ]
    },
    {
      "cell_type": "code",
      "source": [
        "#통계값을 이용하여 이상치 확인하기\n",
        "df.describe()"
      ],
      "metadata": {
        "colab": {
          "base_uri": "https://localhost:8080/",
          "height": 300
        },
        "id": "zphL6m2EC1aR",
        "outputId": "9f0ac3d3-5079-48f9-f655-9308705c55fd"
      },
      "execution_count": null,
      "outputs": [
        {
          "output_type": "execute_result",
          "data": {
            "text/plain": [
              "          PatientId  AppointmentID            Age   SMS_received\n",
              "count  1.105270e+05   1.105270e+05  110527.000000  110527.000000\n",
              "mean   1.474961e+14   5.675305e+06      37.088874       0.321026\n",
              "std    2.560943e+14   7.129575e+04      23.110205       0.466873\n",
              "min    3.920000e+04   5.030230e+06      -1.000000       0.000000\n",
              "25%    4.170000e+12   5.640286e+06      18.000000       0.000000\n",
              "50%    3.170000e+13   5.680573e+06      37.000000       0.000000\n",
              "75%    9.440000e+13   5.725524e+06      55.000000       1.000000\n",
              "max    1.000000e+15   5.790484e+06     115.000000       1.000000"
            ],
            "text/html": [
              "\n",
              "  <div id=\"df-7beeea31-4496-44ac-be73-55af6f2cb3db\" class=\"colab-df-container\">\n",
              "    <div>\n",
              "<style scoped>\n",
              "    .dataframe tbody tr th:only-of-type {\n",
              "        vertical-align: middle;\n",
              "    }\n",
              "\n",
              "    .dataframe tbody tr th {\n",
              "        vertical-align: top;\n",
              "    }\n",
              "\n",
              "    .dataframe thead th {\n",
              "        text-align: right;\n",
              "    }\n",
              "</style>\n",
              "<table border=\"1\" class=\"dataframe\">\n",
              "  <thead>\n",
              "    <tr style=\"text-align: right;\">\n",
              "      <th></th>\n",
              "      <th>PatientId</th>\n",
              "      <th>AppointmentID</th>\n",
              "      <th>Age</th>\n",
              "      <th>SMS_received</th>\n",
              "    </tr>\n",
              "  </thead>\n",
              "  <tbody>\n",
              "    <tr>\n",
              "      <th>count</th>\n",
              "      <td>1.105270e+05</td>\n",
              "      <td>1.105270e+05</td>\n",
              "      <td>110527.000000</td>\n",
              "      <td>110527.000000</td>\n",
              "    </tr>\n",
              "    <tr>\n",
              "      <th>mean</th>\n",
              "      <td>1.474961e+14</td>\n",
              "      <td>5.675305e+06</td>\n",
              "      <td>37.088874</td>\n",
              "      <td>0.321026</td>\n",
              "    </tr>\n",
              "    <tr>\n",
              "      <th>std</th>\n",
              "      <td>2.560943e+14</td>\n",
              "      <td>7.129575e+04</td>\n",
              "      <td>23.110205</td>\n",
              "      <td>0.466873</td>\n",
              "    </tr>\n",
              "    <tr>\n",
              "      <th>min</th>\n",
              "      <td>3.920000e+04</td>\n",
              "      <td>5.030230e+06</td>\n",
              "      <td>-1.000000</td>\n",
              "      <td>0.000000</td>\n",
              "    </tr>\n",
              "    <tr>\n",
              "      <th>25%</th>\n",
              "      <td>4.170000e+12</td>\n",
              "      <td>5.640286e+06</td>\n",
              "      <td>18.000000</td>\n",
              "      <td>0.000000</td>\n",
              "    </tr>\n",
              "    <tr>\n",
              "      <th>50%</th>\n",
              "      <td>3.170000e+13</td>\n",
              "      <td>5.680573e+06</td>\n",
              "      <td>37.000000</td>\n",
              "      <td>0.000000</td>\n",
              "    </tr>\n",
              "    <tr>\n",
              "      <th>75%</th>\n",
              "      <td>9.440000e+13</td>\n",
              "      <td>5.725524e+06</td>\n",
              "      <td>55.000000</td>\n",
              "      <td>1.000000</td>\n",
              "    </tr>\n",
              "    <tr>\n",
              "      <th>max</th>\n",
              "      <td>1.000000e+15</td>\n",
              "      <td>5.790484e+06</td>\n",
              "      <td>115.000000</td>\n",
              "      <td>1.000000</td>\n",
              "    </tr>\n",
              "  </tbody>\n",
              "</table>\n",
              "</div>\n",
              "    <div class=\"colab-df-buttons\">\n",
              "\n",
              "  <div class=\"colab-df-container\">\n",
              "    <button class=\"colab-df-convert\" onclick=\"convertToInteractive('df-7beeea31-4496-44ac-be73-55af6f2cb3db')\"\n",
              "            title=\"Convert this dataframe to an interactive table.\"\n",
              "            style=\"display:none;\">\n",
              "\n",
              "  <svg xmlns=\"http://www.w3.org/2000/svg\" height=\"24px\" viewBox=\"0 -960 960 960\">\n",
              "    <path d=\"M120-120v-720h720v720H120Zm60-500h600v-160H180v160Zm220 220h160v-160H400v160Zm0 220h160v-160H400v160ZM180-400h160v-160H180v160Zm440 0h160v-160H620v160ZM180-180h160v-160H180v160Zm440 0h160v-160H620v160Z\"/>\n",
              "  </svg>\n",
              "    </button>\n",
              "\n",
              "  <style>\n",
              "    .colab-df-container {\n",
              "      display:flex;\n",
              "      gap: 12px;\n",
              "    }\n",
              "\n",
              "    .colab-df-convert {\n",
              "      background-color: #E8F0FE;\n",
              "      border: none;\n",
              "      border-radius: 50%;\n",
              "      cursor: pointer;\n",
              "      display: none;\n",
              "      fill: #1967D2;\n",
              "      height: 32px;\n",
              "      padding: 0 0 0 0;\n",
              "      width: 32px;\n",
              "    }\n",
              "\n",
              "    .colab-df-convert:hover {\n",
              "      background-color: #E2EBFA;\n",
              "      box-shadow: 0px 1px 2px rgba(60, 64, 67, 0.3), 0px 1px 3px 1px rgba(60, 64, 67, 0.15);\n",
              "      fill: #174EA6;\n",
              "    }\n",
              "\n",
              "    .colab-df-buttons div {\n",
              "      margin-bottom: 4px;\n",
              "    }\n",
              "\n",
              "    [theme=dark] .colab-df-convert {\n",
              "      background-color: #3B4455;\n",
              "      fill: #D2E3FC;\n",
              "    }\n",
              "\n",
              "    [theme=dark] .colab-df-convert:hover {\n",
              "      background-color: #434B5C;\n",
              "      box-shadow: 0px 1px 3px 1px rgba(0, 0, 0, 0.15);\n",
              "      filter: drop-shadow(0px 1px 2px rgba(0, 0, 0, 0.3));\n",
              "      fill: #FFFFFF;\n",
              "    }\n",
              "  </style>\n",
              "\n",
              "    <script>\n",
              "      const buttonEl =\n",
              "        document.querySelector('#df-7beeea31-4496-44ac-be73-55af6f2cb3db button.colab-df-convert');\n",
              "      buttonEl.style.display =\n",
              "        google.colab.kernel.accessAllowed ? 'block' : 'none';\n",
              "\n",
              "      async function convertToInteractive(key) {\n",
              "        const element = document.querySelector('#df-7beeea31-4496-44ac-be73-55af6f2cb3db');\n",
              "        const dataTable =\n",
              "          await google.colab.kernel.invokeFunction('convertToInteractive',\n",
              "                                                    [key], {});\n",
              "        if (!dataTable) return;\n",
              "\n",
              "        const docLinkHtml = 'Like what you see? Visit the ' +\n",
              "          '<a target=\"_blank\" href=https://colab.research.google.com/notebooks/data_table.ipynb>data table notebook</a>'\n",
              "          + ' to learn more about interactive tables.';\n",
              "        element.innerHTML = '';\n",
              "        dataTable['output_type'] = 'display_data';\n",
              "        await google.colab.output.renderOutput(dataTable, element);\n",
              "        const docLink = document.createElement('div');\n",
              "        docLink.innerHTML = docLinkHtml;\n",
              "        element.appendChild(docLink);\n",
              "      }\n",
              "    </script>\n",
              "  </div>\n",
              "\n",
              "\n",
              "<div id=\"df-5535c2d5-e2d7-4d22-8d99-7d04c43fb063\">\n",
              "  <button class=\"colab-df-quickchart\" onclick=\"quickchart('df-5535c2d5-e2d7-4d22-8d99-7d04c43fb063')\"\n",
              "            title=\"Suggest charts\"\n",
              "            style=\"display:none;\">\n",
              "\n",
              "<svg xmlns=\"http://www.w3.org/2000/svg\" height=\"24px\"viewBox=\"0 0 24 24\"\n",
              "     width=\"24px\">\n",
              "    <g>\n",
              "        <path d=\"M19 3H5c-1.1 0-2 .9-2 2v14c0 1.1.9 2 2 2h14c1.1 0 2-.9 2-2V5c0-1.1-.9-2-2-2zM9 17H7v-7h2v7zm4 0h-2V7h2v10zm4 0h-2v-4h2v4z\"/>\n",
              "    </g>\n",
              "</svg>\n",
              "  </button>\n",
              "\n",
              "<style>\n",
              "  .colab-df-quickchart {\n",
              "      --bg-color: #E8F0FE;\n",
              "      --fill-color: #1967D2;\n",
              "      --hover-bg-color: #E2EBFA;\n",
              "      --hover-fill-color: #174EA6;\n",
              "      --disabled-fill-color: #AAA;\n",
              "      --disabled-bg-color: #DDD;\n",
              "  }\n",
              "\n",
              "  [theme=dark] .colab-df-quickchart {\n",
              "      --bg-color: #3B4455;\n",
              "      --fill-color: #D2E3FC;\n",
              "      --hover-bg-color: #434B5C;\n",
              "      --hover-fill-color: #FFFFFF;\n",
              "      --disabled-bg-color: #3B4455;\n",
              "      --disabled-fill-color: #666;\n",
              "  }\n",
              "\n",
              "  .colab-df-quickchart {\n",
              "    background-color: var(--bg-color);\n",
              "    border: none;\n",
              "    border-radius: 50%;\n",
              "    cursor: pointer;\n",
              "    display: none;\n",
              "    fill: var(--fill-color);\n",
              "    height: 32px;\n",
              "    padding: 0;\n",
              "    width: 32px;\n",
              "  }\n",
              "\n",
              "  .colab-df-quickchart:hover {\n",
              "    background-color: var(--hover-bg-color);\n",
              "    box-shadow: 0 1px 2px rgba(60, 64, 67, 0.3), 0 1px 3px 1px rgba(60, 64, 67, 0.15);\n",
              "    fill: var(--button-hover-fill-color);\n",
              "  }\n",
              "\n",
              "  .colab-df-quickchart-complete:disabled,\n",
              "  .colab-df-quickchart-complete:disabled:hover {\n",
              "    background-color: var(--disabled-bg-color);\n",
              "    fill: var(--disabled-fill-color);\n",
              "    box-shadow: none;\n",
              "  }\n",
              "\n",
              "  .colab-df-spinner {\n",
              "    border: 2px solid var(--fill-color);\n",
              "    border-color: transparent;\n",
              "    border-bottom-color: var(--fill-color);\n",
              "    animation:\n",
              "      spin 1s steps(1) infinite;\n",
              "  }\n",
              "\n",
              "  @keyframes spin {\n",
              "    0% {\n",
              "      border-color: transparent;\n",
              "      border-bottom-color: var(--fill-color);\n",
              "      border-left-color: var(--fill-color);\n",
              "    }\n",
              "    20% {\n",
              "      border-color: transparent;\n",
              "      border-left-color: var(--fill-color);\n",
              "      border-top-color: var(--fill-color);\n",
              "    }\n",
              "    30% {\n",
              "      border-color: transparent;\n",
              "      border-left-color: var(--fill-color);\n",
              "      border-top-color: var(--fill-color);\n",
              "      border-right-color: var(--fill-color);\n",
              "    }\n",
              "    40% {\n",
              "      border-color: transparent;\n",
              "      border-right-color: var(--fill-color);\n",
              "      border-top-color: var(--fill-color);\n",
              "    }\n",
              "    60% {\n",
              "      border-color: transparent;\n",
              "      border-right-color: var(--fill-color);\n",
              "    }\n",
              "    80% {\n",
              "      border-color: transparent;\n",
              "      border-right-color: var(--fill-color);\n",
              "      border-bottom-color: var(--fill-color);\n",
              "    }\n",
              "    90% {\n",
              "      border-color: transparent;\n",
              "      border-bottom-color: var(--fill-color);\n",
              "    }\n",
              "  }\n",
              "</style>\n",
              "\n",
              "  <script>\n",
              "    async function quickchart(key) {\n",
              "      const quickchartButtonEl =\n",
              "        document.querySelector('#' + key + ' button');\n",
              "      quickchartButtonEl.disabled = true;  // To prevent multiple clicks.\n",
              "      quickchartButtonEl.classList.add('colab-df-spinner');\n",
              "      try {\n",
              "        const charts = await google.colab.kernel.invokeFunction(\n",
              "            'suggestCharts', [key], {});\n",
              "      } catch (error) {\n",
              "        console.error('Error during call to suggestCharts:', error);\n",
              "      }\n",
              "      quickchartButtonEl.classList.remove('colab-df-spinner');\n",
              "      quickchartButtonEl.classList.add('colab-df-quickchart-complete');\n",
              "    }\n",
              "    (() => {\n",
              "      let quickchartButtonEl =\n",
              "        document.querySelector('#df-5535c2d5-e2d7-4d22-8d99-7d04c43fb063 button');\n",
              "      quickchartButtonEl.style.display =\n",
              "        google.colab.kernel.accessAllowed ? 'block' : 'none';\n",
              "    })();\n",
              "  </script>\n",
              "</div>\n",
              "    </div>\n",
              "  </div>\n"
            ]
          },
          "metadata": {},
          "execution_count": 29
        }
      ]
    },
    {
      "cell_type": "code",
      "source": [
        "#이상치 제거하기\n",
        "df=df[df.Age>=0]"
      ],
      "metadata": {
        "id": "o39xo5CbC_bO"
      },
      "execution_count": null,
      "outputs": []
    },
    {
      "cell_type": "code",
      "source": [
        "#이상치 제거되었는지 확인하기\n",
        "df.Age.min()"
      ],
      "metadata": {
        "colab": {
          "base_uri": "https://localhost:8080/"
        },
        "id": "YQ0GrlEODLYC",
        "outputId": "6cbbf604-a9a1-4791-d513-efaabb7aeb2c"
      },
      "execution_count": null,
      "outputs": [
        {
          "output_type": "execute_result",
          "data": {
            "text/plain": [
              "0"
            ]
          },
          "metadata": {},
          "execution_count": 31
        }
      ]
    },
    {
      "cell_type": "code",
      "source": [
        "#수치형으로 데이터타입 변환하기 :map()사용\n",
        "df['No-show']=df['No-show'].map({'Yes':1, 'No':0})"
      ],
      "metadata": {
        "id": "bCwhrQVzDREo"
      },
      "execution_count": null,
      "outputs": []
    },
    {
      "cell_type": "code",
      "source": [
        "#타입변환이 되었는지 확인하기\n",
        "df['No-show'].value_counts()"
      ],
      "metadata": {
        "colab": {
          "base_uri": "https://localhost:8080/"
        },
        "id": "APqQZlpNDXWs",
        "outputId": "fca9d994-7fa6-4d47-afc2-0b6aadb20858"
      },
      "execution_count": null,
      "outputs": [
        {
          "output_type": "execute_result",
          "data": {
            "text/plain": [
              "0    88207\n",
              "1    22319\n",
              "Name: No-show, dtype: int64"
            ]
          },
          "metadata": {},
          "execution_count": 33
        }
      ]
    },
    {
      "cell_type": "code",
      "source": [
        "#datetime으로 형 변환하기:'AppointmentDay','ScheduledDay'\n",
        "df.AppointmentDay = pd.to_datetime(df.AppointmentDay)\n",
        "df.ScheduledDay = pd.to_datetime(df.ScheduledDay)\n",
        "df.info()"
      ],
      "metadata": {
        "colab": {
          "base_uri": "https://localhost:8080/"
        },
        "id": "6a3mVpo5D1Dq",
        "outputId": "0d52c491-196f-4d55-842b-43e1a0fadddf"
      },
      "execution_count": null,
      "outputs": [
        {
          "output_type": "stream",
          "name": "stdout",
          "text": [
            "<class 'pandas.core.frame.DataFrame'>\n",
            "Int64Index: 110526 entries, 0 to 110526\n",
            "Data columns (total 9 columns):\n",
            " #   Column          Non-Null Count   Dtype              \n",
            "---  ------          --------------   -----              \n",
            " 0   PatientId       110526 non-null  float64            \n",
            " 1   AppointmentID   110526 non-null  int64              \n",
            " 2   Gender          110526 non-null  object             \n",
            " 3   ScheduledDay    110526 non-null  datetime64[ns, UTC]\n",
            " 4   AppointmentDay  110526 non-null  datetime64[ns, UTC]\n",
            " 5   Age             110526 non-null  int64              \n",
            " 6   Neighbourhood   110526 non-null  object             \n",
            " 7   SMS_received    110526 non-null  int64              \n",
            " 8   No-show         110526 non-null  int64              \n",
            "dtypes: datetime64[ns, UTC](2), float64(1), int64(4), object(2)\n",
            "memory usage: 8.4+ MB\n"
          ]
        }
      ]
    },
    {
      "cell_type": "code",
      "source": [
        "df['AppointmentDay']"
      ],
      "metadata": {
        "colab": {
          "base_uri": "https://localhost:8080/"
        },
        "id": "Zyv0bp65E4ja",
        "outputId": "cd36008b-f3de-400b-e6ad-ffbb56dfbd41"
      },
      "execution_count": null,
      "outputs": [
        {
          "output_type": "execute_result",
          "data": {
            "text/plain": [
              "0        2016-04-29 00:00:00+00:00\n",
              "1        2016-04-29 00:00:00+00:00\n",
              "2        2016-04-29 00:00:00+00:00\n",
              "3        2016-04-29 00:00:00+00:00\n",
              "4        2016-04-29 00:00:00+00:00\n",
              "                    ...           \n",
              "110522   2016-06-07 00:00:00+00:00\n",
              "110523   2016-06-07 00:00:00+00:00\n",
              "110524   2016-06-07 00:00:00+00:00\n",
              "110525   2016-06-07 00:00:00+00:00\n",
              "110526   2016-06-07 00:00:00+00:00\n",
              "Name: AppointmentDay, Length: 110526, dtype: datetime64[ns, UTC]"
            ]
          },
          "metadata": {},
          "execution_count": 35
        }
      ]
    },
    {
      "cell_type": "code",
      "source": [
        "df['ScheduledDay']"
      ],
      "metadata": {
        "colab": {
          "base_uri": "https://localhost:8080/"
        },
        "id": "fUsxnxtYuvEp",
        "outputId": "65a03a3b-69fc-456d-ff69-cd49f513da52"
      },
      "execution_count": null,
      "outputs": [
        {
          "output_type": "execute_result",
          "data": {
            "text/plain": [
              "0        2016-04-29 18:38:08+00:00\n",
              "1        2016-04-29 16:08:27+00:00\n",
              "2        2016-04-29 16:19:04+00:00\n",
              "3        2016-04-29 17:29:31+00:00\n",
              "4        2016-04-29 16:07:23+00:00\n",
              "                    ...           \n",
              "110522   2016-05-03 09:15:35+00:00\n",
              "110523   2016-05-03 07:27:33+00:00\n",
              "110524   2016-04-27 16:03:52+00:00\n",
              "110525   2016-04-27 15:09:23+00:00\n",
              "110526   2016-04-27 13:30:56+00:00\n",
              "Name: ScheduledDay, Length: 110526, dtype: datetime64[ns, UTC]"
            ]
          },
          "metadata": {},
          "execution_count": 36
        }
      ]
    },
    {
      "cell_type": "code",
      "source": [
        "#예약하고 병원을 방문하는 기간 구하기 :일수 차이로 계산(dt.dayofyear)\n",
        "df['waitingDay']=df['AppointmentDay'].dt.dayofyear-df['ScheduledDay'].dt.dayofyear\n",
        "df.info()"
      ],
      "metadata": {
        "colab": {
          "base_uri": "https://localhost:8080/"
        },
        "id": "8XMoRskGEd3_",
        "outputId": "f9e242e0-1d2d-494a-ed36-483d26a43eec"
      },
      "execution_count": null,
      "outputs": [
        {
          "output_type": "stream",
          "name": "stdout",
          "text": [
            "<class 'pandas.core.frame.DataFrame'>\n",
            "Int64Index: 110526 entries, 0 to 110526\n",
            "Data columns (total 10 columns):\n",
            " #   Column          Non-Null Count   Dtype              \n",
            "---  ------          --------------   -----              \n",
            " 0   PatientId       110526 non-null  float64            \n",
            " 1   AppointmentID   110526 non-null  int64              \n",
            " 2   Gender          110526 non-null  object             \n",
            " 3   ScheduledDay    110526 non-null  datetime64[ns, UTC]\n",
            " 4   AppointmentDay  110526 non-null  datetime64[ns, UTC]\n",
            " 5   Age             110526 non-null  int64              \n",
            " 6   Neighbourhood   110526 non-null  object             \n",
            " 7   SMS_received    110526 non-null  int64              \n",
            " 8   No-show         110526 non-null  int64              \n",
            " 9   waitingDay      110526 non-null  int64              \n",
            "dtypes: datetime64[ns, UTC](2), float64(1), int64(5), object(2)\n",
            "memory usage: 9.3+ MB\n"
          ]
        }
      ]
    },
    {
      "cell_type": "code",
      "source": [
        "#df['waitingDay]의 통계값 확인하기\n",
        "df['waitingDay'].describe()"
      ],
      "metadata": {
        "colab": {
          "base_uri": "https://localhost:8080/"
        },
        "id": "xF4xxCP6FUlR",
        "outputId": "f1127b96-86fa-4e85-e098-fa488c9602fc"
      },
      "execution_count": null,
      "outputs": [
        {
          "output_type": "execute_result",
          "data": {
            "text/plain": [
              "count    110526.000000\n",
              "mean          9.979046\n",
              "std          15.607516\n",
              "min        -223.000000\n",
              "25%           0.000000\n",
              "50%           4.000000\n",
              "75%          15.000000\n",
              "max         146.000000\n",
              "Name: waitingDay, dtype: float64"
            ]
          },
          "metadata": {},
          "execution_count": 38
        }
      ]
    },
    {
      "cell_type": "code",
      "source": [
        "#watingDay의 이상치 제거하기\n",
        "df=df[df['waitingDay']>=0]"
      ],
      "metadata": {
        "id": "PZl0q-PVFmId"
      },
      "execution_count": null,
      "outputs": []
    },
    {
      "cell_type": "code",
      "source": [
        "df['waitingDay'].min()"
      ],
      "metadata": {
        "colab": {
          "base_uri": "https://localhost:8080/"
        },
        "id": "NRecEspMFy9K",
        "outputId": "bc0e1bf6-f661-4e46-b045-1cbd1975ec3b"
      },
      "execution_count": null,
      "outputs": [
        {
          "output_type": "execute_result",
          "data": {
            "text/plain": [
              "0"
            ]
          },
          "metadata": {},
          "execution_count": 40
        }
      ]
    },
    {
      "cell_type": "code",
      "source": [
        "#'Age' 이상치있는지 확인하기 : boxplot\n",
        "sns.boxplot(data=df,x='Age')\n"
      ],
      "metadata": {
        "colab": {
          "base_uri": "https://localhost:8080/",
          "height": 467
        },
        "id": "MbOdFTxMF2Mn",
        "outputId": "9ec063b2-f7f9-4d89-b9c6-6171d0709453"
      },
      "execution_count": null,
      "outputs": [
        {
          "output_type": "execute_result",
          "data": {
            "text/plain": [
              "<Axes: xlabel='Age'>"
            ]
          },
          "metadata": {},
          "execution_count": 41
        },
        {
          "output_type": "display_data",
          "data": {
            "text/plain": [
              "<Figure size 640x480 with 1 Axes>"
            ],
            "image/png": "[encoded data removed]"
          },
          "metadata": {}
        }
      ]
    },
    {
      "cell_type": "code",
      "source": [
        "#이상치 제거하기\n",
        "df=df[df.Age<=110]"
      ],
      "metadata": {
        "id": "oGybiHBZGitO"
      },
      "execution_count": null,
      "outputs": []
    },
    {
      "cell_type": "code",
      "source": [
        "#'Age' 이상치 확인하기 : boxplot\n",
        "sns.boxplot(data=df,x='Age')"
      ],
      "metadata": {
        "colab": {
          "base_uri": "https://localhost:8080/",
          "height": 467
        },
        "id": "HPGfrjecGGtI",
        "outputId": "81721b89-ba2d-4a1a-f6eb-71be84f5ce9e"
      },
      "execution_count": null,
      "outputs": [
        {
          "output_type": "execute_result",
          "data": {
            "text/plain": [
              "<Axes: xlabel='Age'>"
            ]
          },
          "metadata": {},
          "execution_count": 43
        },
        {
          "output_type": "display_data",
          "data": {
            "text/plain": [
              "<Figure size 640x480 with 1 Axes>"
            ],
            "image/png": "[encoded data removed]"
          },
          "metadata": {}
        }
      ]
    },
    {
      "cell_type": "code",
      "source": [
        "df['waitingDay'].value_counts()"
      ],
      "metadata": {
        "colab": {
          "base_uri": "https://localhost:8080/"
        },
        "id": "oNfGTf41IZO-",
        "outputId": "c89757b6-7147-4fe7-920c-bd2f842db721"
      },
      "execution_count": null,
      "outputs": [
        {
          "output_type": "execute_result",
          "data": {
            "text/plain": [
              "0      38561\n",
              "2       6725\n",
              "4       5290\n",
              "1       5213\n",
              "7       4906\n",
              "       ...  \n",
              "101        1\n",
              "82         1\n",
              "126        1\n",
              "125        1\n",
              "123        1\n",
              "Name: waitingDay, Length: 123, dtype: int64"
            ]
          },
          "metadata": {},
          "execution_count": 44
        }
      ]
    },
    {
      "cell_type": "markdown",
      "source": [
        "어떤 변수가 노쇼와\n",
        "관련이 있는지를 파악하기"
      ],
      "metadata": {
        "id": "UbUIkz7eG9Io"
      }
    },
    {
      "cell_type": "code",
      "source": [
        "#waiting_day와 ‘No-show'"
      ],
      "metadata": {
        "id": "0FLXv24BG2Z6"
      },
      "execution_count": null,
      "outputs": []
    },
    {
      "cell_type": "code",
      "source": [
        "#당일예약 건 중에서 노쇼 비율 : wating_day==0\n",
        "\n",
        "a= df[(df.waitingDay==0)]['waitingDay'].value_counts()\n",
        "b = df[(df['waitingDay'] == 0) & (df['No-show'] == 1)]['waitingDay'].value_counts()\n",
        "b/a"
      ],
      "metadata": {
        "id": "kQQd2O30HGVM",
        "colab": {
          "base_uri": "https://localhost:8080/"
        },
        "outputId": "d79b2037-9161-4bcc-a3d7-95f76a1293dc"
      },
      "execution_count": null,
      "outputs": [
        {
          "output_type": "execute_result",
          "data": {
            "text/plain": [
              "0    0.046472\n",
              "Name: waitingDay, dtype: float64"
            ]
          },
          "metadata": {},
          "execution_count": 46
        }
      ]
    },
    {
      "cell_type": "code",
      "source": [
        "#예약한 시점부터 병원 방문 날까지 기다리는 일수에 따라 노쇼관련 여부 확인하기"
      ],
      "metadata": {
        "id": "GIb91y6wLRDN"
      },
      "execution_count": null,
      "outputs": []
    },
    {
      "cell_type": "code",
      "source": [
        "#노쇼데이터와 노쇼가 아닌 데이터로 나누기\n",
        "no_show=df[df['No-show']==1]\n",
        "show=df[df['No-show']==0]"
      ],
      "metadata": {
        "id": "dXbh0m5bLdch"
      },
      "execution_count": null,
      "outputs": []
    },
    {
      "cell_type": "code",
      "source": [
        "# waiting_day가 10일 이내인 데이터 저장하기\n",
        "no1=no_show[no_show['waitingDay']<=10]['waitingDay']\n",
        "show1=show[show['waitingDay']<=10]['waitingDay']"
      ],
      "metadata": {
        "id": "-s8Z1txsL0N3"
      },
      "execution_count": null,
      "outputs": []
    },
    {
      "cell_type": "code",
      "source": [
        "no1"
      ],
      "metadata": {
        "colab": {
          "base_uri": "https://localhost:8080/"
        },
        "id": "IXlrXNs532rK",
        "outputId": "97966b43-e13b-4f55-e143-5b96f83742aa"
      },
      "execution_count": null,
      "outputs": [
        {
          "output_type": "execute_result",
          "data": {
            "text/plain": [
              "6         2\n",
              "7         2\n",
              "11        3\n",
              "17        1\n",
              "20        2\n",
              "         ..\n",
              "110484    4\n",
              "110492    0\n",
              "110496    2\n",
              "110515    2\n",
              "110516    1\n",
              "Name: waitingDay, Length: 11112, dtype: int64"
            ]
          },
          "metadata": {},
          "execution_count": 51
        }
      ]
    },
    {
      "cell_type": "code",
      "source": [
        "#히스토그램으로 시각화하기\n",
        "no1.hist(alpha=0.7, label='no-show')\n",
        "show1.hist(alpha=0.3, label='show')\n",
        "plt.legend()"
      ],
      "metadata": {
        "colab": {
          "base_uri": "https://localhost:8080/",
          "height": 448
        },
        "id": "5dS3c81SM24Z",
        "outputId": "b1c70e67-9c47-41a6-983d-b5f0e24a4d3e"
      },
      "execution_count": null,
      "outputs": [
        {
          "output_type": "execute_result",
          "data": {
            "text/plain": [
              "<matplotlib.legend.Legend at 0x7f8e36847010>"
            ]
          },
          "metadata": {},
          "execution_count": 54
        },
        {
          "output_type": "display_data",
          "data": {
            "text/plain": [
              "<Figure size 640x480 with 1 Axes>"
            ],
            "image/png": "[encoded data removed]"
          },
          "metadata": {}
        }
      ]
    },
    {
      "cell_type": "code",
      "source": [
        "#예약잡은 날에 따른 노쇼 건수와 노쇼가 아닌 건수 비교하기"
      ],
      "metadata": {
        "id": "qcGmTvp0OF1j"
      },
      "execution_count": null,
      "outputs": []
    },
    {
      "cell_type": "code",
      "source": [
        "no2=no_show['ScheduledDay']\n",
        "show2=show['ScheduledDay']\n",
        "no2.hist(alpha=0.7, label='no-show')\n",
        "show2.hist(alpha=0.3, label='show')\n",
        "plt.legend()"
      ],
      "metadata": {
        "colab": {
          "base_uri": "https://localhost:8080/",
          "height": 448
        },
        "id": "hymYG_WPOM7r",
        "outputId": "2762c174-5aba-4b6e-ad91-a9a9a10d8a0b"
      },
      "execution_count": null,
      "outputs": [
        {
          "output_type": "execute_result",
          "data": {
            "text/plain": [
              "<matplotlib.legend.Legend at 0x7f8e36ea65c0>"
            ]
          },
          "metadata": {},
          "execution_count": 55
        },
        {
          "output_type": "display_data",
          "data": {
            "text/plain": [
              "<Figure size 640x480 with 1 Axes>"
            ],
            "image/png": "[encoded data removed]"
          },
          "metadata": {}
        }
      ]
    },
    {
      "cell_type": "code",
      "source": [
        "#병원 방문일에 따른 노쇼 발생 건수와 그렇지 않은 건수 비교"
      ],
      "metadata": {
        "id": "5wMcFKeTPEEg"
      },
      "execution_count": null,
      "outputs": []
    },
    {
      "cell_type": "code",
      "source": [
        "no3=no_show['AppointmentDay']\n",
        "show3=show['AppointmentDay']\n",
        "no3.hist(alpha=0.7, label='no-show')\n",
        "show3.hist(alpha=0.3, label='show')\n",
        "plt.legend()"
      ],
      "metadata": {
        "colab": {
          "base_uri": "https://localhost:8080/",
          "height": 448
        },
        "id": "RGkPl6OhPLi5",
        "outputId": "fd88213d-7e18-4252-82d7-f8850bc36e99"
      },
      "execution_count": null,
      "outputs": [
        {
          "output_type": "execute_result",
          "data": {
            "text/plain": [
              "<matplotlib.legend.Legend at 0x7f8e36e9de10>"
            ]
          },
          "metadata": {},
          "execution_count": 56
        },
        {
          "output_type": "display_data",
          "data": {
            "text/plain": [
              "<Figure size 640x480 with 1 Axes>"
            ],
            "image/png": "[encoded data removed]"
          },
          "metadata": {}
        }
      ]
    },
    {
      "cell_type": "code",
      "source": [
        "#재방문 환자와 노쇼 :df에서"
      ],
      "metadata": {
        "id": "Wvnivi52P1h-"
      },
      "execution_count": null,
      "outputs": []
    },
    {
      "cell_type": "code",
      "source": [
        "#환자번호를 가지고 value_counts()를 구하면 환자별 예약횟수를 알수 있음, 상위10명만 확인하기:iloc사용\n",
        "df.PatientId.value_counts().iloc[0:10]"
      ],
      "metadata": {
        "colab": {
          "base_uri": "https://localhost:8080/"
        },
        "id": "cf7rruSAP825",
        "outputId": "ea65810a-d583-42e7-b2d2-f01cc84d2b00"
      },
      "execution_count": null,
      "outputs": [
        {
          "output_type": "execute_result",
          "data": {
            "text/plain": [
              "8.220000e+14    141\n",
              "3.350000e+13    127\n",
              "7.580000e+13    124\n",
              "8.190000e+13    123\n",
              "2.690000e+13    117\n",
              "6.540000e+13    112\n",
              "6.680000e+13    106\n",
              "1.450000e+13    104\n",
              "8.530000e+14    102\n",
              "8.920000e+13    101\n",
              "Name: PatientId, dtype: int64"
            ]
          },
          "metadata": {},
          "execution_count": 59
        }
      ]
    },
    {
      "cell_type": "code",
      "source": [
        "#상위 500명 환자의 예약횟수 분포 확인하기\n",
        "patient=df.PatientId.value_counts().iloc[0:500]\n",
        "patient.hist()"
      ],
      "metadata": {
        "colab": {
          "base_uri": "https://localhost:8080/",
          "height": 448
        },
        "id": "SnKHMsKJQSDo",
        "outputId": "11906aee-8037-4683-ec45-b7b010e64b39"
      },
      "execution_count": null,
      "outputs": [
        {
          "output_type": "execute_result",
          "data": {
            "text/plain": [
              "<Axes: >"
            ]
          },
          "metadata": {},
          "execution_count": 62
        },
        {
          "output_type": "display_data",
          "data": {
            "text/plain": [
              "<Figure size 640x480 with 1 Axes>"
            ],
            "image/png": "[encoded data removed]"
          },
          "metadata": {}
        }
      ]
    },
    {
      "cell_type": "code",
      "source": [],
      "metadata": {
        "id": "r3YeTYjBRL_M"
      },
      "execution_count": null,
      "outputs": []
    },
    {
      "cell_type": "markdown",
      "source": [
        "한명당 최소 50번의 예약을 하고 최대 141회 예약을 한다.\n",
        "가장 많은 예약은 50~60사이임\n",
        "한 환자가 병원을 여러번 예약하는 것을 알수 있음"
      ],
      "metadata": {
        "id": "crUSXXPuQxlq"
      }
    },
    {
      "cell_type": "code",
      "source": [
        "#노쇼 환자별 watingDay 파악 : no_show데이터에서\n",
        "  #50일 이상 기다린다면\n",
        "no_show[no_show['waitingDay']>=50]['PatientId'].value_counts()"
      ],
      "metadata": {
        "colab": {
          "base_uri": "https://localhost:8080/"
        },
        "id": "5HzzQGwpRCyh",
        "outputId": "365d2c4b-4d10-4d49-d111-250670fa9949"
      },
      "execution_count": null,
      "outputs": [
        {
          "output_type": "execute_result",
          "data": {
            "text/plain": [
              "3.380000e+14    6\n",
              "7.250000e+13    4\n",
              "7.850000e+13    4\n",
              "8.340000e+12    4\n",
              "5.670000e+12    3\n",
              "               ..\n",
              "3.110000e+11    1\n",
              "7.240000e+13    1\n",
              "9.680000e+12    1\n",
              "9.850000e+14    1\n",
              "2.930000e+12    1\n",
              "Name: PatientId, Length: 790, dtype: int64"
            ]
          },
          "metadata": {},
          "execution_count": 63
        }
      ]
    },
    {
      "cell_type": "code",
      "source": [
        " #10일~19일\n",
        "no_show[(20>no_show['waitingDay'])&(no_show['waitingDay']>=10)]['PatientId'].value_counts()"
      ],
      "metadata": {
        "colab": {
          "base_uri": "https://localhost:8080/"
        },
        "id": "ie86rsInSDEX",
        "outputId": "f1a18cbb-00bb-449c-d2b0-c471de52e421"
      },
      "execution_count": null,
      "outputs": [
        {
          "output_type": "execute_result",
          "data": {
            "text/plain": [
              "9.740000e+13    9\n",
              "1.560000e+13    8\n",
              "9.440000e+11    7\n",
              "7.580000e+13    7\n",
              "2.490000e+13    7\n",
              "               ..\n",
              "3.530000e+12    1\n",
              "2.320000e+12    1\n",
              "2.157992e+09    1\n",
              "4.690000e+11    1\n",
              "2.760000e+14    1\n",
              "Name: PatientId, Length: 2296, dtype: int64"
            ]
          },
          "metadata": {},
          "execution_count": 64
        }
      ]
    },
    {
      "cell_type": "code",
      "source": [
        " #1일~9일\n",
        " no_show[(10>no_show['waitingDay'])&(no_show['waitingDay']>=1)]['PatientId'].value_counts()"
      ],
      "metadata": {
        "colab": {
          "base_uri": "https://localhost:8080/"
        },
        "id": "zRhFCN5DSsj7",
        "outputId": "7440971d-3ed4-48fb-f90e-0c2f9f63e0f0"
      },
      "execution_count": null,
      "outputs": [
        {
          "output_type": "execute_result",
          "data": {
            "text/plain": [
              "3.150000e+13    13\n",
              "9.160000e+13    13\n",
              "8.140000e+13    13\n",
              "9.180000e+13    12\n",
              "2.270000e+13    12\n",
              "                ..\n",
              "9.560000e+14     1\n",
              "3.758423e+10     1\n",
              "9.732838e+10     1\n",
              "3.300000e+13     1\n",
              "6.460000e+14     1\n",
              "Name: PatientId, Length: 3106, dtype: int64"
            ]
          },
          "metadata": {},
          "execution_count": 66
        }
      ]
    },
    {
      "cell_type": "code",
      "source": [
        "#노쇼 여부와 SMS_receive,watindDay간의 관계 파악 :df에서\n",
        "sns.barplot(data=df, y='waitingDay', x='SMS_received', hue='No-show')"
      ],
      "metadata": {
        "colab": {
          "base_uri": "https://localhost:8080/",
          "height": 468
        },
        "id": "HkrbVOjHTQ6p",
        "outputId": "af141019-e987-414a-a0ff-10b2e25dd84b"
      },
      "execution_count": null,
      "outputs": [
        {
          "output_type": "execute_result",
          "data": {
            "text/plain": [
              "<Axes: xlabel='SMS_received', ylabel='waitingDay'>"
            ]
          },
          "metadata": {},
          "execution_count": 71
        },
        {
          "output_type": "display_data",
          "data": {
            "text/plain": [
              "<Figure size 640x480 with 1 Axes>"
            ],
            "image/png": "[encoded data removed]"
          },
          "metadata": {}
        }
      ]
    },
    {
      "cell_type": "code",
      "source": [
        "sns.barplot(y='waitingDay',data=df,x='No-show')"
      ],
      "metadata": {
        "colab": {
          "base_uri": "https://localhost:8080/",
          "height": 467
        },
        "id": "2Q_QXq4nWFx2",
        "outputId": "b166981d-65bc-41d3-829f-4a883f12d743"
      },
      "execution_count": null,
      "outputs": [
        {
          "output_type": "execute_result",
          "data": {
            "text/plain": [
              "<Axes: xlabel='No-show', ylabel='waitingDay'>"
            ]
          },
          "metadata": {},
          "execution_count": 81
        },
        {
          "output_type": "display_data",
          "data": {
            "text/plain": [
              "<Figure size 640x480 with 1 Axes>"
            ],
            "image/png": "[encoded data removed]"
          },
          "metadata": {}
        }
      ]
    },
    {
      "cell_type": "code",
      "source": [
        "#SMS_received에 따른 ‘No-show’ 비율 파악\n",
        "a=len(df[(df['SMS_received'] == 1) & (df['No-show'] == 1)])\n",
        "b=len(df[(df['SMS_received'] == 0) & (df['No-show'] == 0)])\n",
        "a/(a+b)"
      ],
      "metadata": {
        "colab": {
          "base_uri": "https://localhost:8080/"
        },
        "id": "zMX0KOg1hxUb",
        "outputId": "5e142d14-3fa7-4efd-bded-dff1a9b9334a"
      },
      "execution_count": null,
      "outputs": [
        {
          "output_type": "execute_result",
          "data": {
            "text/plain": [
              "0.2756927591850556"
            ]
          },
          "metadata": {},
          "execution_count": 92
        }
      ]
    },
    {
      "cell_type": "code",
      "source": [
        "a=len(df[(df['SMS_received'] == 1) & (df['No-show'] == 1)])\n",
        "b=len(df[(df['SMS_received'] == 1) & (df['No-show'] == 0)])\n",
        "a/(a+b)"
      ],
      "metadata": {
        "colab": {
          "base_uri": "https://localhost:8080/"
        },
        "id": "QjQiH9ZOiJMH",
        "outputId": "1cbaffc0-77fd-4481-cee3-68975ca75a61"
      },
      "execution_count": null,
      "outputs": [
        {
          "output_type": "execute_result",
          "data": {
            "text/plain": [
              "0.2756927591850556"
            ]
          },
          "metadata": {},
          "execution_count": 93
        }
      ]
    },
    {
      "cell_type": "code",
      "source": [
        "#얼마나 많은 환자가 예정된 날짜에 오지 않았는가?\n",
        "no_show_count = df['No-show'].sum()\n",
        "no_show_count"
      ],
      "metadata": {
        "id": "Bp_HXqoKhNtD",
        "colab": {
          "base_uri": "https://localhost:8080/"
        },
        "outputId": "e4a8ecd6-32c3-41bd-fdc9-0b5a76e66994"
      },
      "execution_count": null,
      "outputs": [
        {
          "output_type": "execute_result",
          "data": {
            "text/plain": [
              "22292"
            ]
          },
          "metadata": {},
          "execution_count": 91
        }
      ]
    },
    {
      "cell_type": "code",
      "source": [
        "#성별에 따른 노쇼 여부를 countplot을 이용하여 시각화해보자.\n",
        "sns.countplot(x='Gender', hue='No-show', data=df)"
      ],
      "metadata": {
        "id": "HLOXbYUohTiY",
        "colab": {
          "base_uri": "https://localhost:8080/",
          "height": 472
        },
        "outputId": "ad1b96d9-2f4e-4aeb-fd73-6faa8cfad8a3"
      },
      "execution_count": null,
      "outputs": [
        {
          "output_type": "execute_result",
          "data": {
            "text/plain": [
              "<Axes: xlabel='Gender', ylabel='count'>"
            ]
          },
          "metadata": {},
          "execution_count": 94
        },
        {
          "output_type": "display_data",
          "data": {
            "text/plain": [
              "<Figure size 640x480 with 1 Axes>"
            ],
            "image/png": "[encoded data removed]"
          },
          "metadata": {}
        }
      ]
    },
    {
      "cell_type": "code",
      "source": [
        "#이외에 다양한 방법으로 분석해 보고 결과를 작성하시오."
      ],
      "metadata": {
        "id": "NsF8TZnFhfhZ"
      },
      "execution_count": null,
      "outputs": []
    },
    {
      "cell_type": "code",
      "source": [
        "#노쇼를 최소화하려면 어떻게 해야하는가?"
      ],
      "metadata": {
        "id": "qJxwsZvDib-f"
      },
      "execution_count": null,
      "outputs": []
    },
    {
      "cell_type": "markdown",
      "source": [
        "1. 연령대에 따른 노쇼 분석"
      ],
      "metadata": {
        "id": "xENwZd7J9f7T"
      }
    },
    {
      "cell_type": "code",
      "source": [
        "#연령대 분류\n",
        "age_bins = [0, 9, 19, 29, 39, 49, 59, 69, 79, 89, 99, 109]\n",
        "age_labels = ['0-9', '10-19', '20-29', '30-39', '40-49', '50-59', '60-69', '70-79', '80-89', '90-99', '100-109']\n",
        "df['Age_Group'] = pd.cut(df['Age'], bins=age_bins, labels=age_labels)"
      ],
      "metadata": {
        "id": "kKaQmO7p9hp6"
      },
      "execution_count": null,
      "outputs": []
    },
    {
      "cell_type": "code",
      "source": [
        "#연령대에 따른 노쇼 평균\n",
        "age_no_show = df.groupby('Age_Group')['No-show'].mean()\n",
        "age_no_show"
      ],
      "metadata": {
        "colab": {
          "base_uri": "https://localhost:8080/"
        },
        "id": "UC5mP99h99D-",
        "outputId": "ba2e7653-a955-4c59-ce4e-448652335d16"
      },
      "execution_count": null,
      "outputs": [
        {
          "output_type": "execute_result",
          "data": {
            "text/plain": [
              "Age_Group\n",
              "0-9        0.204090\n",
              "10-19      0.251720\n",
              "20-29      0.246641\n",
              "30-39      0.217446\n",
              "40-49      0.202732\n",
              "50-59      0.174879\n",
              "60-69      0.150539\n",
              "70-79      0.151571\n",
              "80-89      0.157016\n",
              "90-99      0.201970\n",
              "100-109    0.000000\n",
              "Name: No-show, dtype: float64"
            ]
          },
          "metadata": {},
          "execution_count": 77
        }
      ]
    },
    {
      "cell_type": "code",
      "source": [
        "#그래프\n",
        "plt.figure(figsize=(10, 6))\n",
        "age_no_show.plot(kind='bar')\n",
        "plt.xlabel('age')\n",
        "plt.ylabel('no-show')\n",
        "plt.xticks(rotation=45)\n",
        "plt.show()"
      ],
      "metadata": {
        "colab": {
          "base_uri": "https://localhost:8080/",
          "height": 430
        },
        "id": "EPbv_Atl-imT",
        "outputId": "8bb2b7ab-9a75-48ed-b7be-44823cf4239b"
      },
      "execution_count": null,
      "outputs": [
        {
          "output_type": "display_data",
          "data": {
            "text/plain": [
              "<Figure size 1000x600 with 1 Axes>"
            ],
            "image/png": "[encoded data removed]"
          },
          "metadata": {}
        }
      ]
    },
    {
      "cell_type": "markdown",
      "source": [
        "2. 요일별 노쇼 분석"
      ],
      "metadata": {
        "id": "PLIS9Xn29mGz"
      }
    },
    {
      "cell_type": "code",
      "source": [
        "#요일별 분석\n",
        "df['AppointmentDayOfWeek'] = df['AppointmentDay'].dt.day_name()\n",
        "weekday_no_show = df.groupby('AppointmentDayOfWeek')['No-show'].mean()\n",
        "weekday_order = ['Monday', 'Tuesday', 'Wednesday', 'Thursday', 'Friday', 'Saturday']"
      ],
      "metadata": {
        "id": "tOoy_0bP_Pgs"
      },
      "execution_count": null,
      "outputs": []
    },
    {
      "cell_type": "code",
      "source": [
        "#출력\n",
        "weekday_no_show"
      ],
      "metadata": {
        "colab": {
          "base_uri": "https://localhost:8080/"
        },
        "id": "OahMJcmb_qZ6",
        "outputId": "00babd51-2188-4909-b49c-bbe05cf13631"
      },
      "execution_count": null,
      "outputs": [
        {
          "output_type": "execute_result",
          "data": {
            "text/plain": [
              "AppointmentDayOfWeek\n",
              "Friday       0.212279\n",
              "Monday       0.206385\n",
              "Saturday     0.230769\n",
              "Thursday     0.193401\n",
              "Tuesday      0.200874\n",
              "Wednesday    0.196630\n",
              "Name: No-show, dtype: float64"
            ]
          },
          "metadata": {},
          "execution_count": 96
        }
      ]
    },
    {
      "cell_type": "code",
      "source": [
        "plt.figure(figsize=(10, 6))\n",
        "weekday_no_show[weekday_order].plot(kind='bar')\n",
        "plt.xlabel('weekday')\n",
        "plt.ylabel('no-show')\n",
        "plt.xticks(rotation=45)\n",
        "plt.show()"
      ],
      "metadata": {
        "colab": {
          "base_uri": "https://localhost:8080/",
          "height": 442
        },
        "id": "w6DAthr3_fPj",
        "outputId": "f0cb42bf-baf3-4d9c-e967-fcd374001293"
      },
      "execution_count": null,
      "outputs": [
        {
          "output_type": "display_data",
          "data": {
            "text/plain": [
              "<Figure size 1000x600 with 1 Axes>"
            ],
            "image/png": "[encoded data removed]"
          },
          "metadata": {}
        }
      ]
    }
  ]
}